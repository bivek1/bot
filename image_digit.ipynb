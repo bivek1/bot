{
 "cells": [
  {
   "cell_type": "code",
   "execution_count": 1,
   "metadata": {},
   "outputs": [],
   "source": [
    "import cv2\n",
    "import pickle\n",
    "import pytesseract\n"
   ]
  },
  {
   "cell_type": "code",
   "execution_count": 4,
   "metadata": {},
   "outputs": [],
   "source": [
    "from sklearn.ensemble import RandomForestClassifier\n",
    "\n",
    "# Assuming you have a trained Random Forest Classifier named 'random_forest_classifier'\n",
    "random_forest_classifier = RandomForestClassifier()\n",
    "\n",
    "# Save the trained classifier to a new pickle file\n",
    "with open('/Users/bibekdhakal/Python/Bot/Mathematical-Handwriting-recognition/Model/random_forest_classifier.pkl', 'wb') as file:\n",
    "    pickle.dump(random_forest_classifier, file)\n",
    "\n",
    "# Load the trained classifier from the pickle file\n",
    "with open('/Users/bibekdhakal/Python/Bot/Mathematical-Handwriting-recognition/Model/random_forest_classifier.pkl', 'rb') as file:\n",
    "    classifier = pickle.load(file)"
   ]
  },
  {
   "cell_type": "code",
   "execution_count": 5,
   "metadata": {},
   "outputs": [
    {
     "name": "stderr",
     "output_type": "stream",
     "text": [
      "2024-05-13 12:55:07.149 Python[1875:3897778] WARNING: Secure coding is not enabled for restorable state! Enable secure coding by implementing NSApplicationDelegate.applicationSupportsSecureRestorableState: and returning YES.\n"
     ]
    },
    {
     "name": "stdout",
     "output_type": "stream",
     "text": [
      "S\n",
      "\n",
      "\n"
     ]
    }
   ],
   "source": [
    "def preprocess_image(img):\n",
    "    # Implement any necessary preprocessing steps here\n",
    "    # (e.g., resizing, normalization, etc.)\n",
    "    # Ensure that the preprocessed image has the correct shape and format expected by the classifier\n",
    "    # Example:\n",
    "    img = cv2.cvtColor(img, cv2.COLOR_BGR2GRAY)  # Convert to grayscale\n",
    "    img = cv2.resize(img, (28, 28))  # Resize to match the input size expected by the classifier\n",
    "    img = img.flatten()  # Flatten the image into a 1D array\n",
    "    return img\n",
    "\n",
    "# Function to predict digit using the loaded classifier\n",
    "def predict_digit(img):\n",
    "    # Preprocess the input image\n",
    "    img = preprocess_image(img)\n",
    "    # Perform prediction using the classifier\n",
    "    prediction = classifier.predict([img])\n",
    "    return prediction[0]  # Return the predicted digit\n",
    "\n",
    "# Function to extract digits from the input image and predict using the loaded classifier\n",
    "def extract_and_predict_digits(image_path):\n",
    "    # Read the input image\n",
    "    img = cv2.imread(image_path)\n",
    "    \n",
    "    cv2.imshow(\"Enhanced Image\", img)\n",
    "    cv2.waitKey(0)\n",
    "    cv2.destroyAllWindows()\n",
    "    cv2.destroyAllWindows()\n",
    "    text = pytesseract.image_to_string(img)\n",
    "    print(text)\n",
    "    nume = ''.join(x for x in text if x.isdigit())\n",
    "    print(nume)\n",
    "\n",
    "# Example usage\n",
    "image_path = '/Users/bibekdhakal/Python/Bot/rgb_image.jpg'\n",
    "extract_and_predict_digits(image_path)"
   ]
  }
 ],
 "metadata": {
  "kernelspec": {
   "display_name": "env",
   "language": "python",
   "name": "python3"
  },
  "language_info": {
   "codemirror_mode": {
    "name": "ipython",
    "version": 3
   },
   "file_extension": ".py",
   "mimetype": "text/x-python",
   "name": "python",
   "nbconvert_exporter": "python",
   "pygments_lexer": "ipython3",
   "version": "3.11.4"
  }
 },
 "nbformat": 4,
 "nbformat_minor": 2
}
